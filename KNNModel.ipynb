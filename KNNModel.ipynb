{
 "metadata": {
  "language_info": {
   "codemirror_mode": {
    "name": "ipython",
    "version": 3
   },
   "file_extension": ".py",
   "mimetype": "text/x-python",
   "name": "python",
   "nbconvert_exporter": "python",
   "pygments_lexer": "ipython3",
   "version": "3.9.0"
  },
  "orig_nbformat": 2,
  "kernelspec": {
   "name": "python390jvsc74a57bd047a59b68f4c14334b938a311c4d9284db28cf61f8a4f605adee4da16031a8e7a",
   "display_name": "Python 3.9.0 64-bit"
  },
  "metadata": {
   "interpreter": {
    "hash": "47a59b68f4c14334b938a311c4d9284db28cf61f8a4f605adee4da16031a8e7a"
   }
  }
 },
 "nbformat": 4,
 "nbformat_minor": 2,
 "cells": [
  {
   "cell_type": "code",
   "execution_count": 15,
   "metadata": {},
   "outputs": [],
   "source": [
    "# Importing necessary libraries\n",
    "from sklearn import datasets\n",
    "from sklearn.metrics import confusion_matrix\n",
    "from sklearn.model_selection import train_test_split\n",
    "import pandas as pd\n",
    "import math"
   ]
  },
  {
   "cell_type": "code",
   "execution_count": 16,
   "metadata": {},
   "outputs": [],
   "source": [
    "# Load variables from BaseModel\n",
    "%store -r X_train\n",
    "%store -r y_train\n",
    "%store -r X_test\n",
    "%store -r y_test\n",
    "%store -r df\n"
   ]
  },
  {
   "cell_type": "code",
   "execution_count": 17,
   "metadata": {},
   "outputs": [],
   "source": [
    "# Training a KNN classifier\n",
    "from sklearn.neighbors import KNeighborsClassifier\n",
    "knn = KNeighborsClassifier(n_neighbors = 7).fit(X_train, y_train)\n",
    "knn_predictions = knn.predict(X_test) "
   ]
  },
  {
   "cell_type": "code",
   "execution_count": 18,
   "metadata": {},
   "outputs": [],
   "source": [
    "def mood(mood):\n",
    "        \n",
    "    if mood == 'Happy':\n",
    "        mood = 0\n",
    "    elif mood == 'Sad':\n",
    "        mood = 1\n",
    "    elif mood == 'Calm':\n",
    "        mood = 2\n",
    "    elif mood == 'Sleepy':\n",
    "        mood = 3\n",
    "    elif mood == 'Energised':\n",
    "        mood = 4\n",
    "    elif mood == 'Aroused':\n",
    "        mood = 5\n",
    "    elif mood == 'Angry':\n",
    "        mood = 6\n",
    "    elif mood == 'Chill':\n",
    "        mood = 7\n",
    "    \n",
    "    return mood"
   ]
  },
  {
   "cell_type": "code",
   "execution_count": 19,
   "metadata": {},
   "outputs": [],
   "source": [
    "def check_similarity(predictions, y_test):\n",
    "    similarity = [\n",
    "    [ 1,  0, .5, .3, .5, .7,  0, .6],\n",
    "    [ 0,  1, .5, .4, .3, .5, .7, .5],\n",
    "    [.5, .5,  1, .8,  0, .5,  0, .9],\n",
    "    [.3, .4, .8,  1,  0, .2,  0, .5],\n",
    "    [.5, .3,  0,  0,  1, .3, .8,  0],\n",
    "    [.7, .5, .5, .2, .3,  1, .2, .6],\n",
    "    [ 0, .7,  0,  0, .8, .2,  1,  0],\n",
    "    [.6, .5, .9, .5,  0, .6,  0,  1]\n",
    "    ]\n",
    "    sum_similarity = 0\n",
    "    test_y = y_test.to_numpy()\n",
    "\n",
    "    for row in range(len(predictions)):\n",
    "        model_mood = mood(predictions[row])\n",
    "        y_mood = mood(test_y[row])\n",
    "        sum_similarity += similarity[model_mood][y_mood]\n",
    "    \n",
    "    accuracy = sum_similarity/len(predictions)\n",
    "    return accuracy"
   ]
  },
  {
   "cell_type": "code",
   "execution_count": 20,
   "metadata": {},
   "outputs": [
    {
     "output_type": "stream",
     "name": "stdout",
     "text": [
      "0.4327603640040445\n"
     ]
    }
   ],
   "source": [
    "# Accuracy on X_test\n",
    "accuracy = knn.score(X_test, y_test)\n",
    "print(accuracy)"
   ]
  },
  {
   "cell_type": "code",
   "execution_count": 21,
   "metadata": {},
   "outputs": [
    {
     "output_type": "execute_result",
     "data": {
      "text/plain": [
       "0.7221435793731039"
      ]
     },
     "metadata": {},
     "execution_count": 21
    }
   ],
   "source": [
    "check_similarity(knn_predictions, y_test)"
   ]
  },
  {
   "cell_type": "code",
   "execution_count": 22,
   "metadata": {},
   "outputs": [
    {
     "output_type": "execute_result",
     "data": {
      "text/plain": [
       "array([[ 58,  10,   1,  13,  27,   9,   2,   1],\n",
       "       [ 19,  13,   8,  22,  12,  16,   8,   0],\n",
       "       [  1,   4,  36,   7,   1,   0,   2,  41],\n",
       "       [ 11,  26,  10,  55,  12,  10,  15,   3],\n",
       "       [ 39,  10,   0,   8,  99,  11,   2,   0],\n",
       "       [ 22,  16,   2,  12,  24,  14,   2,   0],\n",
       "       [  6,  20,   6,  35,   5,   5,   7,   4],\n",
       "       [  1,   0,  35,   2,   0,   0,   3, 146]], dtype=int64)"
      ]
     },
     "metadata": {},
     "execution_count": 22
    }
   ],
   "source": [
    "# Creating a confusion matrix\n",
    "cm = confusion_matrix(y_test, knn_predictions)\n",
    "cm"
   ]
  }
 ]
}