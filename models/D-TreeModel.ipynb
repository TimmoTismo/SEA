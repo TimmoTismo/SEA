{
 "metadata": {
  "language_info": {
   "codemirror_mode": {
    "name": "ipython",
    "version": 3
   },
   "file_extension": ".py",
   "mimetype": "text/x-python",
   "name": "python",
   "nbconvert_exporter": "python",
   "pygments_lexer": "ipython3",
   "version": "3.9.0"
  },
  "orig_nbformat": 2,
  "kernelspec": {
   "name": "python390jvsc74a57bd047a59b68f4c14334b938a311c4d9284db28cf61f8a4f605adee4da16031a8e7a",
   "display_name": "Python 3.9.0 64-bit"
  },
  "metadata": {
   "interpreter": {
    "hash": "47a59b68f4c14334b938a311c4d9284db28cf61f8a4f605adee4da16031a8e7a"
   }
  }
 },
 "nbformat": 4,
 "nbformat_minor": 2,
 "cells": [
  {
   "cell_type": "code",
   "execution_count": 10,
   "metadata": {},
   "outputs": [],
   "source": [
    "# Importing necessary libraries\n",
    "from sklearn.metrics import confusion_matrix\n",
    "from sklearn.model_selection import train_test_split\n",
    "import pandas as pd\n",
    "import math"
   ]
  },
  {
   "cell_type": "code",
   "execution_count": 11,
   "metadata": {},
   "outputs": [],
   "source": [
    "#Load variables from BaseModel\n",
    "%store -r X_train \n",
    "%store -r y_train\n",
    "%store -r X_test\n",
    "%store -r y_test\n",
    "%store -r df"
   ]
  },
  {
   "cell_type": "code",
   "execution_count": 12,
   "metadata": {},
   "outputs": [],
   "source": [
    "# Training a DescisionTreeClassifier\n",
    "from sklearn.tree import DecisionTreeClassifier\n",
    "dtree_model = DecisionTreeClassifier(max_depth = 2).fit(X_train, y_train)\n",
    "dtree_predictions = dtree_model.predict(X_test)"
   ]
  },
  {
   "cell_type": "code",
   "execution_count": 13,
   "metadata": {},
   "outputs": [],
   "source": [
    "def mood(mood):\n",
    "        \n",
    "    if mood == 'Happy':\n",
    "        mood = 0\n",
    "    elif mood == 'Sad':\n",
    "        mood = 1\n",
    "    elif mood == 'Calm':\n",
    "        mood = 2\n",
    "    elif mood == 'Sleepy':\n",
    "        mood = 3\n",
    "    elif mood == 'Energised':\n",
    "        mood = 4\n",
    "    elif mood == 'Aroused':\n",
    "        mood = 5\n",
    "    elif mood == 'Angry':\n",
    "        mood = 6\n",
    "    elif mood == 'Chill':\n",
    "        mood = 7\n",
    "    \n",
    "    return mood"
   ]
  },
  {
   "cell_type": "code",
   "execution_count": 14,
   "metadata": {},
   "outputs": [],
   "source": [
    "def check_similarity(predictions, y_test):\n",
    "    similarity = [\n",
    "    [ 1,  0, .5, .3, .5, .7,  0, .6],\n",
    "    [ 0,  1, .5, .4, .3, .5, .7, .5],\n",
    "    [.5, .5,  1, .8,  0, .5,  0, .9],\n",
    "    [.3, .4, .8,  1,  0, .2,  0, .5],\n",
    "    [.5, .3,  0,  0,  1, .3, .8,  0],\n",
    "    [.7, .5, .5, .2, .3,  1, .2, .6],\n",
    "    [ 0, .7,  0,  0, .8, .2,  1,  0],\n",
    "    [.6, .5, .9, .5,  0, .6,  0,  1]\n",
    "    ]\n",
    "    sum_similarity = 0\n",
    "    test_y = y_test.to_numpy()\n",
    "\n",
    "    for row in range(len(predictions)):\n",
    "        model_mood = mood(predictions[row])\n",
    "        y_mood = mood(test_y[row])\n",
    "        sum_similarity += similarity[model_mood][y_mood]\n",
    "    \n",
    "    accuracy = sum_similarity/len(predictions)\n",
    "    return accuracy\n"
   ]
  },
  {
   "cell_type": "code",
   "execution_count": 15,
   "metadata": {},
   "outputs": [
    {
     "output_type": "execute_result",
     "data": {
      "text/plain": [
       "array([[ 11,   0,   0,  15,  95,   0,   0,   0],\n",
       "       [  1,   0,   0,  57,  40,   0,   0,   0],\n",
       "       [  0,   0,   0,  69,   4,   0,   0,  19],\n",
       "       [  0,   0,   0, 101,  41,   0,   0,   0],\n",
       "       [  0,   0,   0,   6, 163,   0,   0,   0],\n",
       "       [  0,   0,   0,  36,  56,   0,   0,   0],\n",
       "       [  0,   0,   0,  75,  13,   0,   0,   0],\n",
       "       [  0,   0,   0,  11,   2,   0,   0, 174]], dtype=int64)"
      ]
     },
     "metadata": {},
     "execution_count": 15
    }
   ],
   "source": [
    "# Creating a confusion matrix\n",
    "cm = confusion_matrix(y_test, dtree_predictions)\n",
    "cm"
   ]
  },
  {
   "cell_type": "code",
   "execution_count": 16,
   "metadata": {},
   "outputs": [
    {
     "output_type": "execute_result",
     "data": {
      "text/plain": [
       "0.4539939332659252"
      ]
     },
     "metadata": {},
     "execution_count": 16
    }
   ],
   "source": [
    "# Evaluate the model\n",
    "dtree_model.score(X_test, y_test)"
   ]
  },
  {
   "cell_type": "code",
   "execution_count": 17,
   "metadata": {},
   "outputs": [
    {
     "output_type": "execute_result",
     "data": {
      "text/plain": [
       "0.7534883720930232"
      ]
     },
     "metadata": {},
     "execution_count": 17
    }
   ],
   "source": [
    "check_similarity(dtree_predictions, y_test)"
   ]
  },
  {
   "cell_type": "code",
   "execution_count": null,
   "metadata": {},
   "outputs": [],
   "source": []
  }
 ]
}