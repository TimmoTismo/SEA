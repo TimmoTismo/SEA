{
 "metadata": {
  "language_info": {
   "codemirror_mode": {
    "name": "ipython",
    "version": 3
   },
   "file_extension": ".py",
   "mimetype": "text/x-python",
   "name": "python",
   "nbconvert_exporter": "python",
   "pygments_lexer": "ipython3",
   "version": "3.9.0"
  },
  "orig_nbformat": 2,
  "kernelspec": {
   "name": "python390jvsc74a57bd047a59b68f4c14334b938a311c4d9284db28cf61f8a4f605adee4da16031a8e7a",
   "display_name": "Python 3.9.0 64-bit"
  },
  "metadata": {
   "interpreter": {
    "hash": "47a59b68f4c14334b938a311c4d9284db28cf61f8a4f605adee4da16031a8e7a"
   }
  }
 },
 "nbformat": 4,
 "nbformat_minor": 2,
 "cells": [
  {
   "cell_type": "code",
   "execution_count": 1,
   "metadata": {},
   "outputs": [],
   "source": [
    "# Importing necessary libraries\n",
    "from sklearn.model_selection import train_test_split\n",
    "import pandas as pd\n",
    "import math"
   ]
  },
  {
   "cell_type": "code",
   "execution_count": 2,
   "metadata": {},
   "outputs": [
    {
     "output_type": "execute_result",
     "data": {
      "text/plain": [
       "      Unnamed: 0                        name                          artists  \\\n",
       "0              0                     Honesty                  ['Pink Sweat$']   \n",
       "1              1  Get You (feat. Kali Uchis)  ['Daniel Caesar', 'Kali Uchis']   \n",
       "2              2                        Easy                    ['Mac Ayres']   \n",
       "3              3                Feel No Ways                        ['Drake']   \n",
       "4              4  Want U Around (feat. Ruel)          ['Omar Apollo', 'Ruel']   \n",
       "...          ...                         ...                              ...   \n",
       "3950          95   Back for Good - Radio Mix                    ['Take That']   \n",
       "3951          96               How Do I Live                  ['LeAnn Rimes']   \n",
       "3952          97  Drops of Jupiter (Tell Me)                        ['Train']   \n",
       "3953          98        You're Still The One                 ['Shania Twain']   \n",
       "3954          99                  You And Me                    ['Lifehouse']   \n",
       "\n",
       "      acousticness  danceability  duration_ms  energy  instrumentalness  key  \\\n",
       "0           0.9190         0.616       191000   0.204          0.000000    6   \n",
       "1           0.4260         0.659       277297   0.295          0.000069   11   \n",
       "2           0.3730         0.722       314358   0.282          0.005570    5   \n",
       "3           0.0312         0.582       240653   0.677          0.000007    7   \n",
       "4           0.3000         0.571       247720   0.443          0.000007    0   \n",
       "...            ...           ...          ...     ...               ...  ...   \n",
       "3950        0.3100         0.601       242267   0.504          0.000000    5   \n",
       "3951        0.1280         0.577       266973   0.462          0.000000    2   \n",
       "3952        0.1530         0.481       259933   0.638          0.000000    0   \n",
       "3953        0.4760         0.556       212560   0.513          0.000000    3   \n",
       "3954        0.1140         0.459       195493   0.427          0.000000    7   \n",
       "\n",
       "      liveness  loudness  mode  speechiness    tempo  time_signature  valence  \\\n",
       "0       0.1060   -11.421     0       0.0331   79.826               4    0.419   \n",
       "1       0.0795    -8.528     0       0.0322   74.037               4    0.360   \n",
       "2       0.1470    -7.484     1       0.1060   91.367               4    0.217   \n",
       "3       0.1220    -7.081     1       0.1720  193.818               4    0.205   \n",
       "4       0.1010    -6.760     1       0.0451  143.923               3    0.621   \n",
       "...        ...       ...   ...          ...      ...             ...      ...   \n",
       "3950    0.1370    -9.761     1       0.0284   78.986               4    0.564   \n",
       "3951    0.0822    -7.989     1       0.0279  128.303               4    0.258   \n",
       "3952    0.1540    -5.862     1       0.0276   79.064               4    0.497   \n",
       "3953    0.2370    -7.201     1       0.0290  133.803               4    0.665   \n",
       "3954    0.1680    -7.734     1       0.0267  139.902               3    0.354   \n",
       "\n",
       "      nlp_lyrics  nlp_annotations  valence+nlp     mood  \n",
       "0         0.9490           0.9490       0.4380      Sad  \n",
       "1         0.6124           0.6124       0.3722      Sad  \n",
       "2         0.9933           0.9933       0.2369      Sad  \n",
       "3         0.9310           0.9310       0.2236      Sad  \n",
       "4         0.9123           0.9123       0.6392      Sad  \n",
       "...          ...              ...          ...      ...  \n",
       "3950      0.9853           0.9853       0.5837  Aroused  \n",
       "3951      0.4203           0.4203       0.2664  Aroused  \n",
       "3952      0.9870           0.9870       0.5167  Aroused  \n",
       "3953      0.9953           0.9953       0.6849  Aroused  \n",
       "3954      0.9301           0.9301       0.3726  Aroused  \n",
       "\n",
       "[3955 rows x 20 columns]"
      ],
      "text/html": "<div>\n<style scoped>\n    .dataframe tbody tr th:only-of-type {\n        vertical-align: middle;\n    }\n\n    .dataframe tbody tr th {\n        vertical-align: top;\n    }\n\n    .dataframe thead th {\n        text-align: right;\n    }\n</style>\n<table border=\"1\" class=\"dataframe\">\n  <thead>\n    <tr style=\"text-align: right;\">\n      <th></th>\n      <th>Unnamed: 0</th>\n      <th>name</th>\n      <th>artists</th>\n      <th>acousticness</th>\n      <th>danceability</th>\n      <th>duration_ms</th>\n      <th>energy</th>\n      <th>instrumentalness</th>\n      <th>key</th>\n      <th>liveness</th>\n      <th>loudness</th>\n      <th>mode</th>\n      <th>speechiness</th>\n      <th>tempo</th>\n      <th>time_signature</th>\n      <th>valence</th>\n      <th>nlp_lyrics</th>\n      <th>nlp_annotations</th>\n      <th>valence+nlp</th>\n      <th>mood</th>\n    </tr>\n  </thead>\n  <tbody>\n    <tr>\n      <th>0</th>\n      <td>0</td>\n      <td>Honesty</td>\n      <td>['Pink Sweat$']</td>\n      <td>0.9190</td>\n      <td>0.616</td>\n      <td>191000</td>\n      <td>0.204</td>\n      <td>0.000000</td>\n      <td>6</td>\n      <td>0.1060</td>\n      <td>-11.421</td>\n      <td>0</td>\n      <td>0.0331</td>\n      <td>79.826</td>\n      <td>4</td>\n      <td>0.419</td>\n      <td>0.9490</td>\n      <td>0.9490</td>\n      <td>0.4380</td>\n      <td>Sad</td>\n    </tr>\n    <tr>\n      <th>1</th>\n      <td>1</td>\n      <td>Get You (feat. Kali Uchis)</td>\n      <td>['Daniel Caesar', 'Kali Uchis']</td>\n      <td>0.4260</td>\n      <td>0.659</td>\n      <td>277297</td>\n      <td>0.295</td>\n      <td>0.000069</td>\n      <td>11</td>\n      <td>0.0795</td>\n      <td>-8.528</td>\n      <td>0</td>\n      <td>0.0322</td>\n      <td>74.037</td>\n      <td>4</td>\n      <td>0.360</td>\n      <td>0.6124</td>\n      <td>0.6124</td>\n      <td>0.3722</td>\n      <td>Sad</td>\n    </tr>\n    <tr>\n      <th>2</th>\n      <td>2</td>\n      <td>Easy</td>\n      <td>['Mac Ayres']</td>\n      <td>0.3730</td>\n      <td>0.722</td>\n      <td>314358</td>\n      <td>0.282</td>\n      <td>0.005570</td>\n      <td>5</td>\n      <td>0.1470</td>\n      <td>-7.484</td>\n      <td>1</td>\n      <td>0.1060</td>\n      <td>91.367</td>\n      <td>4</td>\n      <td>0.217</td>\n      <td>0.9933</td>\n      <td>0.9933</td>\n      <td>0.2369</td>\n      <td>Sad</td>\n    </tr>\n    <tr>\n      <th>3</th>\n      <td>3</td>\n      <td>Feel No Ways</td>\n      <td>['Drake']</td>\n      <td>0.0312</td>\n      <td>0.582</td>\n      <td>240653</td>\n      <td>0.677</td>\n      <td>0.000007</td>\n      <td>7</td>\n      <td>0.1220</td>\n      <td>-7.081</td>\n      <td>1</td>\n      <td>0.1720</td>\n      <td>193.818</td>\n      <td>4</td>\n      <td>0.205</td>\n      <td>0.9310</td>\n      <td>0.9310</td>\n      <td>0.2236</td>\n      <td>Sad</td>\n    </tr>\n    <tr>\n      <th>4</th>\n      <td>4</td>\n      <td>Want U Around (feat. Ruel)</td>\n      <td>['Omar Apollo', 'Ruel']</td>\n      <td>0.3000</td>\n      <td>0.571</td>\n      <td>247720</td>\n      <td>0.443</td>\n      <td>0.000007</td>\n      <td>0</td>\n      <td>0.1010</td>\n      <td>-6.760</td>\n      <td>1</td>\n      <td>0.0451</td>\n      <td>143.923</td>\n      <td>3</td>\n      <td>0.621</td>\n      <td>0.9123</td>\n      <td>0.9123</td>\n      <td>0.6392</td>\n      <td>Sad</td>\n    </tr>\n    <tr>\n      <th>...</th>\n      <td>...</td>\n      <td>...</td>\n      <td>...</td>\n      <td>...</td>\n      <td>...</td>\n      <td>...</td>\n      <td>...</td>\n      <td>...</td>\n      <td>...</td>\n      <td>...</td>\n      <td>...</td>\n      <td>...</td>\n      <td>...</td>\n      <td>...</td>\n      <td>...</td>\n      <td>...</td>\n      <td>...</td>\n      <td>...</td>\n      <td>...</td>\n      <td>...</td>\n    </tr>\n    <tr>\n      <th>3950</th>\n      <td>95</td>\n      <td>Back for Good - Radio Mix</td>\n      <td>['Take That']</td>\n      <td>0.3100</td>\n      <td>0.601</td>\n      <td>242267</td>\n      <td>0.504</td>\n      <td>0.000000</td>\n      <td>5</td>\n      <td>0.1370</td>\n      <td>-9.761</td>\n      <td>1</td>\n      <td>0.0284</td>\n      <td>78.986</td>\n      <td>4</td>\n      <td>0.564</td>\n      <td>0.9853</td>\n      <td>0.9853</td>\n      <td>0.5837</td>\n      <td>Aroused</td>\n    </tr>\n    <tr>\n      <th>3951</th>\n      <td>96</td>\n      <td>How Do I Live</td>\n      <td>['LeAnn Rimes']</td>\n      <td>0.1280</td>\n      <td>0.577</td>\n      <td>266973</td>\n      <td>0.462</td>\n      <td>0.000000</td>\n      <td>2</td>\n      <td>0.0822</td>\n      <td>-7.989</td>\n      <td>1</td>\n      <td>0.0279</td>\n      <td>128.303</td>\n      <td>4</td>\n      <td>0.258</td>\n      <td>0.4203</td>\n      <td>0.4203</td>\n      <td>0.2664</td>\n      <td>Aroused</td>\n    </tr>\n    <tr>\n      <th>3952</th>\n      <td>97</td>\n      <td>Drops of Jupiter (Tell Me)</td>\n      <td>['Train']</td>\n      <td>0.1530</td>\n      <td>0.481</td>\n      <td>259933</td>\n      <td>0.638</td>\n      <td>0.000000</td>\n      <td>0</td>\n      <td>0.1540</td>\n      <td>-5.862</td>\n      <td>1</td>\n      <td>0.0276</td>\n      <td>79.064</td>\n      <td>4</td>\n      <td>0.497</td>\n      <td>0.9870</td>\n      <td>0.9870</td>\n      <td>0.5167</td>\n      <td>Aroused</td>\n    </tr>\n    <tr>\n      <th>3953</th>\n      <td>98</td>\n      <td>You're Still The One</td>\n      <td>['Shania Twain']</td>\n      <td>0.4760</td>\n      <td>0.556</td>\n      <td>212560</td>\n      <td>0.513</td>\n      <td>0.000000</td>\n      <td>3</td>\n      <td>0.2370</td>\n      <td>-7.201</td>\n      <td>1</td>\n      <td>0.0290</td>\n      <td>133.803</td>\n      <td>4</td>\n      <td>0.665</td>\n      <td>0.9953</td>\n      <td>0.9953</td>\n      <td>0.6849</td>\n      <td>Aroused</td>\n    </tr>\n    <tr>\n      <th>3954</th>\n      <td>99</td>\n      <td>You And Me</td>\n      <td>['Lifehouse']</td>\n      <td>0.1140</td>\n      <td>0.459</td>\n      <td>195493</td>\n      <td>0.427</td>\n      <td>0.000000</td>\n      <td>7</td>\n      <td>0.1680</td>\n      <td>-7.734</td>\n      <td>1</td>\n      <td>0.0267</td>\n      <td>139.902</td>\n      <td>3</td>\n      <td>0.354</td>\n      <td>0.9301</td>\n      <td>0.9301</td>\n      <td>0.3726</td>\n      <td>Aroused</td>\n    </tr>\n  </tbody>\n</table>\n<p>3955 rows × 20 columns</p>\n</div>"
     },
     "metadata": {},
     "execution_count": 2
    }
   ],
   "source": [
    "# Read in the playlists dataset\n",
    "data = pd.read_csv('datasets/data.csv')\n",
    "data"
   ]
  },
  {
   "cell_type": "code",
   "execution_count": 3,
   "metadata": {},
   "outputs": [
    {
     "output_type": "execute_result",
     "data": {
      "text/plain": [
       "                                                   name  \\\n",
       "0                                    Tormenta de lluvia   \n",
       "1                                Mood (feat. iann dior)   \n",
       "2                                               Vampire   \n",
       "3                                                Lakota   \n",
       "4                                              Wait 4 U   \n",
       "...                                                 ...   \n",
       "3950                                          Separated   \n",
       "3951  Mother Trucker Dude, That Hurt Like A Buttchee...   \n",
       "3952                 Don't You Worry Child - Radio Edit   \n",
       "3953                                         Unbothered   \n",
       "3954                    Ric Flair Drip (& Metro Boomin)   \n",
       "\n",
       "                                         artists  acousticness  danceability  \\\n",
       "0                                    ['Dormida']      0.127000        0.0872   \n",
       "1                      ['24kGoldn', 'iann dior']      0.221000        0.7000   \n",
       "2     ['Radical Redemption', 'Noisecontrollers']      0.023800        0.2830   \n",
       "3              ['Technimatic', 'A Little Sound']      0.031500        0.5360   \n",
       "4           ['Machinedrum', 'Jesse Boykins III']      0.001470        0.6190   \n",
       "...                                          ...           ...           ...   \n",
       "3950                               ['Juno Reed']      0.987000        0.0672   \n",
       "3951                         ['Octopus Montage']      0.000137        0.4710   \n",
       "3952      ['Swedish House Mafia', 'John Martin']      0.112000        0.6120   \n",
       "3953                  ['Ski Mask The Slump God']      0.222000        0.8840   \n",
       "3954                  ['Offset', 'Metro Boomin']      0.149000        0.8800   \n",
       "\n",
       "      energy  instrumentalness  key  liveness  loudness  mode  speechiness  \\\n",
       "0     0.9920          0.996000    1    0.4180   -19.236     1       0.0837   \n",
       "1     0.7220          0.000000    7    0.2720    -3.558     0       0.0369   \n",
       "2     0.9330          0.195000    5    0.2060    -3.481     1       0.1840   \n",
       "3     0.7860          0.000020    0    0.1110    -3.718     0       0.0307   \n",
       "4     0.8510          0.848000    1    0.0768    -5.181     0       0.0539   \n",
       "...      ...               ...  ...       ...       ...   ...          ...   \n",
       "3950  0.0115          0.904000    0    0.1000   -30.287     1       0.0452   \n",
       "3951  0.9710          0.000000    7    0.3320    -2.546     1       0.2420   \n",
       "3952  0.8400          0.000000   11    0.1160    -3.145     0       0.0509   \n",
       "3953  0.4450          0.000000    1    0.1120   -10.580     0       0.4180   \n",
       "3954  0.4280          0.000051    9    0.1140    -8.280     1       0.2060   \n",
       "\n",
       "        tempo  time_signature  valence  valence+nlp       mood  \n",
       "0      86.758               4  0.00861      -0.0111     Sleepy  \n",
       "1      90.989               4  0.75600       0.7749  Energised  \n",
       "2     155.069               3  0.08380       0.1038      Angry  \n",
       "3      86.999               4  0.03860       0.0294  Energised  \n",
       "4     174.019               4  0.49600       0.5105  Energised  \n",
       "...       ...             ...      ...          ...        ...  \n",
       "3950   75.441               3  0.03580       0.0558     Sleepy  \n",
       "3951  179.951               4  0.23600       0.2360      Angry  \n",
       "3952  129.042               4  0.43800       0.4579  Energised  \n",
       "3953  125.008               4  0.85100       0.8368      Angry  \n",
       "3954  100.007               4  0.33300       0.3140  Energised  \n",
       "\n",
       "[3955 rows x 16 columns]"
      ],
      "text/html": "<div>\n<style scoped>\n    .dataframe tbody tr th:only-of-type {\n        vertical-align: middle;\n    }\n\n    .dataframe tbody tr th {\n        vertical-align: top;\n    }\n\n    .dataframe thead th {\n        text-align: right;\n    }\n</style>\n<table border=\"1\" class=\"dataframe\">\n  <thead>\n    <tr style=\"text-align: right;\">\n      <th></th>\n      <th>name</th>\n      <th>artists</th>\n      <th>acousticness</th>\n      <th>danceability</th>\n      <th>energy</th>\n      <th>instrumentalness</th>\n      <th>key</th>\n      <th>liveness</th>\n      <th>loudness</th>\n      <th>mode</th>\n      <th>speechiness</th>\n      <th>tempo</th>\n      <th>time_signature</th>\n      <th>valence</th>\n      <th>valence+nlp</th>\n      <th>mood</th>\n    </tr>\n  </thead>\n  <tbody>\n    <tr>\n      <th>0</th>\n      <td>Tormenta de lluvia</td>\n      <td>['Dormida']</td>\n      <td>0.127000</td>\n      <td>0.0872</td>\n      <td>0.9920</td>\n      <td>0.996000</td>\n      <td>1</td>\n      <td>0.4180</td>\n      <td>-19.236</td>\n      <td>1</td>\n      <td>0.0837</td>\n      <td>86.758</td>\n      <td>4</td>\n      <td>0.00861</td>\n      <td>-0.0111</td>\n      <td>Sleepy</td>\n    </tr>\n    <tr>\n      <th>1</th>\n      <td>Mood (feat. iann dior)</td>\n      <td>['24kGoldn', 'iann dior']</td>\n      <td>0.221000</td>\n      <td>0.7000</td>\n      <td>0.7220</td>\n      <td>0.000000</td>\n      <td>7</td>\n      <td>0.2720</td>\n      <td>-3.558</td>\n      <td>0</td>\n      <td>0.0369</td>\n      <td>90.989</td>\n      <td>4</td>\n      <td>0.75600</td>\n      <td>0.7749</td>\n      <td>Energised</td>\n    </tr>\n    <tr>\n      <th>2</th>\n      <td>Vampire</td>\n      <td>['Radical Redemption', 'Noisecontrollers']</td>\n      <td>0.023800</td>\n      <td>0.2830</td>\n      <td>0.9330</td>\n      <td>0.195000</td>\n      <td>5</td>\n      <td>0.2060</td>\n      <td>-3.481</td>\n      <td>1</td>\n      <td>0.1840</td>\n      <td>155.069</td>\n      <td>3</td>\n      <td>0.08380</td>\n      <td>0.1038</td>\n      <td>Angry</td>\n    </tr>\n    <tr>\n      <th>3</th>\n      <td>Lakota</td>\n      <td>['Technimatic', 'A Little Sound']</td>\n      <td>0.031500</td>\n      <td>0.5360</td>\n      <td>0.7860</td>\n      <td>0.000020</td>\n      <td>0</td>\n      <td>0.1110</td>\n      <td>-3.718</td>\n      <td>0</td>\n      <td>0.0307</td>\n      <td>86.999</td>\n      <td>4</td>\n      <td>0.03860</td>\n      <td>0.0294</td>\n      <td>Energised</td>\n    </tr>\n    <tr>\n      <th>4</th>\n      <td>Wait 4 U</td>\n      <td>['Machinedrum', 'Jesse Boykins III']</td>\n      <td>0.001470</td>\n      <td>0.6190</td>\n      <td>0.8510</td>\n      <td>0.848000</td>\n      <td>1</td>\n      <td>0.0768</td>\n      <td>-5.181</td>\n      <td>0</td>\n      <td>0.0539</td>\n      <td>174.019</td>\n      <td>4</td>\n      <td>0.49600</td>\n      <td>0.5105</td>\n      <td>Energised</td>\n    </tr>\n    <tr>\n      <th>...</th>\n      <td>...</td>\n      <td>...</td>\n      <td>...</td>\n      <td>...</td>\n      <td>...</td>\n      <td>...</td>\n      <td>...</td>\n      <td>...</td>\n      <td>...</td>\n      <td>...</td>\n      <td>...</td>\n      <td>...</td>\n      <td>...</td>\n      <td>...</td>\n      <td>...</td>\n      <td>...</td>\n    </tr>\n    <tr>\n      <th>3950</th>\n      <td>Separated</td>\n      <td>['Juno Reed']</td>\n      <td>0.987000</td>\n      <td>0.0672</td>\n      <td>0.0115</td>\n      <td>0.904000</td>\n      <td>0</td>\n      <td>0.1000</td>\n      <td>-30.287</td>\n      <td>1</td>\n      <td>0.0452</td>\n      <td>75.441</td>\n      <td>3</td>\n      <td>0.03580</td>\n      <td>0.0558</td>\n      <td>Sleepy</td>\n    </tr>\n    <tr>\n      <th>3951</th>\n      <td>Mother Trucker Dude, That Hurt Like A Buttchee...</td>\n      <td>['Octopus Montage']</td>\n      <td>0.000137</td>\n      <td>0.4710</td>\n      <td>0.9710</td>\n      <td>0.000000</td>\n      <td>7</td>\n      <td>0.3320</td>\n      <td>-2.546</td>\n      <td>1</td>\n      <td>0.2420</td>\n      <td>179.951</td>\n      <td>4</td>\n      <td>0.23600</td>\n      <td>0.2360</td>\n      <td>Angry</td>\n    </tr>\n    <tr>\n      <th>3952</th>\n      <td>Don't You Worry Child - Radio Edit</td>\n      <td>['Swedish House Mafia', 'John Martin']</td>\n      <td>0.112000</td>\n      <td>0.6120</td>\n      <td>0.8400</td>\n      <td>0.000000</td>\n      <td>11</td>\n      <td>0.1160</td>\n      <td>-3.145</td>\n      <td>0</td>\n      <td>0.0509</td>\n      <td>129.042</td>\n      <td>4</td>\n      <td>0.43800</td>\n      <td>0.4579</td>\n      <td>Energised</td>\n    </tr>\n    <tr>\n      <th>3953</th>\n      <td>Unbothered</td>\n      <td>['Ski Mask The Slump God']</td>\n      <td>0.222000</td>\n      <td>0.8840</td>\n      <td>0.4450</td>\n      <td>0.000000</td>\n      <td>1</td>\n      <td>0.1120</td>\n      <td>-10.580</td>\n      <td>0</td>\n      <td>0.4180</td>\n      <td>125.008</td>\n      <td>4</td>\n      <td>0.85100</td>\n      <td>0.8368</td>\n      <td>Angry</td>\n    </tr>\n    <tr>\n      <th>3954</th>\n      <td>Ric Flair Drip (&amp; Metro Boomin)</td>\n      <td>['Offset', 'Metro Boomin']</td>\n      <td>0.149000</td>\n      <td>0.8800</td>\n      <td>0.4280</td>\n      <td>0.000051</td>\n      <td>9</td>\n      <td>0.1140</td>\n      <td>-8.280</td>\n      <td>1</td>\n      <td>0.2060</td>\n      <td>100.007</td>\n      <td>4</td>\n      <td>0.33300</td>\n      <td>0.3140</td>\n      <td>Energised</td>\n    </tr>\n  </tbody>\n</table>\n<p>3955 rows × 16 columns</p>\n</div>"
     },
     "metadata": {},
     "execution_count": 3
    }
   ],
   "source": [
    "# Pre-process the data\n",
    "\n",
    "# Remove the index column from csv file\n",
    "data = data.loc[:, ~data.columns.str.contains('^Unnamed')] \n",
    "\n",
    "# Drop unnecessary columns\n",
    "df = data.drop(columns=['duration_ms', 'nlp_lyrics', 'nlp_annotations'])\n",
    "\n",
    "# Randomise rows\n",
    "df = df.sample(frac=1).reset_index(drop=True)\n",
    "\n",
    "df"
   ]
  },
  {
   "cell_type": "code",
   "execution_count": 4,
   "metadata": {},
   "outputs": [],
   "source": [
    "X = df.iloc[:, 2:15] # All rows, features only, no labels\n",
    "y = df.iloc[:, 15] # All rows, label only, no features"
   ]
  },
  {
   "cell_type": "code",
   "execution_count": 5,
   "metadata": {},
   "outputs": [],
   "source": [
    "# Dividing X, y into train and test data\n",
    "X_train, X_test, y_train, y_test = train_test_split(X, y, random_state = 0)\n"
   ]
  },
  {
   "cell_type": "code",
   "execution_count": 6,
   "metadata": {},
   "outputs": [
    {
     "output_type": "stream",
     "name": "stdout",
     "text": [
      "Stored 'X_train' (DataFrame)\nStored 'y_train' (Series)\nStored 'X_test' (DataFrame)\nStored 'y_test' (Series)\nStored 'df' (DataFrame)\n"
     ]
    }
   ],
   "source": [
    "# Store all variables for different models to use\n",
    "%store X_train\n",
    "%store y_train\n",
    "%store X_test\n",
    "%store y_test\n",
    "%store df"
   ]
  }
 ]
}